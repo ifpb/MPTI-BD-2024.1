{
 "cells": [
  {
   "cell_type": "markdown",
   "source": [
    "## Consumo de APIS\n",
    "Neste notebook são demonstrados alguns exemplos de consumo de APIs, web scrapping e web crawling."
   ],
   "metadata": {
    "collapsed": false
   }
  },
  {
   "cell_type": "markdown",
   "source": [
    "# Apis"
   ],
   "metadata": {
    "collapsed": false
   }
  },
  {
   "cell_type": "markdown",
   "source": [
    "## Consumindo dados da API do IBGE (https://servicodados.ibge.gov.br/api/docs/localidades) - Localidades"
   ],
   "metadata": {
    "collapsed": false
   }
  },
  {
   "cell_type": "code",
   "execution_count": 38,
   "outputs": [
    {
     "data": {
      "text/plain": "            id           nome  \\\n0    250010605    Água Branca   \n1    250020505         Aguiar   \n2    250030405  Alagoa Grande   \n3    250040305    Alagoa Nova   \n4    250050205      Alagoinha   \n..         ...            ...   \n292  251700110    Mata Virgem   \n293  251710005         Várzea   \n294  251720905    Vieirópolis   \n295  250550105  Vista Serrana   \n296  251740705         Zabelê   \n\n                                                                                                                                                                                                                                                                                                                                                                                                                                                                                                             municipio  \n0                       {'id': 2500106, 'nome': 'Água Branca', 'microrregiao': {'id': 25007, 'nome': 'Serra do Teixeira', 'mesorregiao': {'id': 2501, 'nome': 'Sertão Paraibano', 'UF': {'id': 25, 'sigla': 'PB', 'nome': 'Paraíba', 'regiao': {'id': 2, 'sigla': 'NE', 'nome': 'Nordeste'}}}}, 'regiao-imediata': {'id': 250009, 'nome': 'Patos', 'regiao-intermediaria': {'id': 2503, 'nome': 'Patos', 'UF': {'id': 25, 'sigla': 'PB', 'nome': 'Paraíba', 'regiao': {'id': 2, 'sigla': 'NE', 'nome': 'Nordeste'}}}}}  \n1                                  {'id': 2500205, 'nome': 'Aguiar', 'microrregiao': {'id': 25005, 'nome': 'Piancó', 'mesorregiao': {'id': 2501, 'nome': 'Sertão Paraibano', 'UF': {'id': 25, 'sigla': 'PB', 'nome': 'Paraíba', 'regiao': {'id': 2, 'sigla': 'NE', 'nome': 'Nordeste'}}}}, 'regiao-imediata': {'id': 250010, 'nome': 'Itaporanga', 'regiao-intermediaria': {'id': 2503, 'nome': 'Patos', 'UF': {'id': 25, 'sigla': 'PB', 'nome': 'Paraíba', 'regiao': {'id': 2, 'sigla': 'NE', 'nome': 'Nordeste'}}}}}  \n2    {'id': 2500304, 'nome': 'Alagoa Grande', 'microrregiao': {'id': 25015, 'nome': 'Brejo Paraibano', 'mesorregiao': {'id': 2503, 'nome': 'Agreste Paraibano', 'UF': {'id': 25, 'sigla': 'PB', 'nome': 'Paraíba', 'regiao': {'id': 2, 'sigla': 'NE', 'nome': 'Nordeste'}}}}, 'regiao-imediata': {'id': 250005, 'nome': 'Campina Grande', 'regiao-intermediaria': {'id': 2502, 'nome': 'Campina Grande', 'UF': {'id': 25, 'sigla': 'PB', 'nome': 'Paraíba', 'regiao': {'id': 2, 'sigla': 'NE', 'nome': 'Nordeste'}}}}}  \n3      {'id': 2500403, 'nome': 'Alagoa Nova', 'microrregiao': {'id': 25015, 'nome': 'Brejo Paraibano', 'mesorregiao': {'id': 2503, 'nome': 'Agreste Paraibano', 'UF': {'id': 25, 'sigla': 'PB', 'nome': 'Paraíba', 'regiao': {'id': 2, 'sigla': 'NE', 'nome': 'Nordeste'}}}}, 'regiao-imediata': {'id': 250005, 'nome': 'Campina Grande', 'regiao-intermediaria': {'id': 2502, 'nome': 'Campina Grande', 'UF': {'id': 25, 'sigla': 'PB', 'nome': 'Paraíba', 'regiao': {'id': 2, 'sigla': 'NE', 'nome': 'Nordeste'}}}}}  \n4                      {'id': 2500502, 'nome': 'Alagoinha', 'microrregiao': {'id': 25016, 'nome': 'Guarabira', 'mesorregiao': {'id': 2503, 'nome': 'Agreste Paraibano', 'UF': {'id': 25, 'sigla': 'PB', 'nome': 'Paraíba', 'regiao': {'id': 2, 'sigla': 'NE', 'nome': 'Nordeste'}}}}, 'regiao-imediata': {'id': 250002, 'nome': 'Guarabira', 'regiao-intermediaria': {'id': 2501, 'nome': 'João Pessoa', 'UF': {'id': 25, 'sigla': 'PB', 'nome': 'Paraíba', 'regiao': {'id': 2, 'sigla': 'NE', 'nome': 'Nordeste'}}}}}  \n..                                                                                                                                                                                                                                                                                                                                                                                                                                                                                                                 ...  \n292            {'id': 2517001, 'nome': 'Umbuzeiro', 'microrregiao': {'id': 25019, 'nome': 'Umbuzeiro', 'mesorregiao': {'id': 2503, 'nome': 'Agreste Paraibano', 'UF': {'id': 25, 'sigla': 'PB', 'nome': 'Paraíba', 'regiao': {'id': 2, 'sigla': 'NE', 'nome': 'Nordeste'}}}}, 'regiao-imediata': {'id': 250005, 'nome': 'Campina Grande', 'regiao-intermediaria': {'id': 2502, 'nome': 'Campina Grande', 'UF': {'id': 25, 'sigla': 'PB', 'nome': 'Paraíba', 'regiao': {'id': 2, 'sigla': 'NE', 'nome': 'Nordeste'}}}}}  \n293                        {'id': 2517100, 'nome': 'Várzea', 'microrregiao': {'id': 25008, 'nome': 'Seridó Ocidental Paraibano', 'mesorregiao': {'id': 2502, 'nome': 'Borborema', 'UF': {'id': 25, 'sigla': 'PB', 'nome': 'Paraíba', 'regiao': {'id': 2, 'sigla': 'NE', 'nome': 'Nordeste'}}}}, 'regiao-imediata': {'id': 250009, 'nome': 'Patos', 'regiao-intermediaria': {'id': 2503, 'nome': 'Patos', 'UF': {'id': 25, 'sigla': 'PB', 'nome': 'Paraíba', 'regiao': {'id': 2, 'sigla': 'NE', 'nome': 'Nordeste'}}}}}  \n294                    {'id': 2517209, 'nome': 'Vieirópolis', 'microrregiao': {'id': 25003, 'nome': 'Sousa', 'mesorregiao': {'id': 2501, 'nome': 'Sertão Paraibano', 'UF': {'id': 25, 'sigla': 'PB', 'nome': 'Paraíba', 'regiao': {'id': 2, 'sigla': 'NE', 'nome': 'Nordeste'}}}}, 'regiao-imediata': {'id': 250014, 'nome': 'Sousa', 'regiao-intermediaria': {'id': 2504, 'nome': 'Sousa - Cajazeiras', 'UF': {'id': 25, 'sigla': 'PB', 'nome': 'Paraíba', 'regiao': {'id': 2, 'sigla': 'NE', 'nome': 'Nordeste'}}}}}  \n295                               {'id': 2505501, 'nome': 'Vista Serrana', 'microrregiao': {'id': 25003, 'nome': 'Sousa', 'mesorregiao': {'id': 2501, 'nome': 'Sertão Paraibano', 'UF': {'id': 25, 'sigla': 'PB', 'nome': 'Paraíba', 'regiao': {'id': 2, 'sigla': 'NE', 'nome': 'Nordeste'}}}}, 'regiao-imediata': {'id': 250009, 'nome': 'Patos', 'regiao-intermediaria': {'id': 2503, 'nome': 'Patos', 'UF': {'id': 25, 'sigla': 'PB', 'nome': 'Paraíba', 'regiao': {'id': 2, 'sigla': 'NE', 'nome': 'Nordeste'}}}}}  \n296                      {'id': 2517407, 'nome': 'Zabelê', 'microrregiao': {'id': 25010, 'nome': 'Cariri Ocidental', 'mesorregiao': {'id': 2502, 'nome': 'Borborema', 'UF': {'id': 25, 'sigla': 'PB', 'nome': 'Paraíba', 'regiao': {'id': 2, 'sigla': 'NE', 'nome': 'Nordeste'}}}}, 'regiao-imediata': {'id': 250007, 'nome': 'Monteiro', 'regiao-intermediaria': {'id': 2502, 'nome': 'Campina Grande', 'UF': {'id': 25, 'sigla': 'PB', 'nome': 'Paraíba', 'regiao': {'id': 2, 'sigla': 'NE', 'nome': 'Nordeste'}}}}}  \n\n[297 rows x 3 columns]",
      "text/html": "<div>\n<style scoped>\n    .dataframe tbody tr th:only-of-type {\n        vertical-align: middle;\n    }\n\n    .dataframe tbody tr th {\n        vertical-align: top;\n    }\n\n    .dataframe thead th {\n        text-align: right;\n    }\n</style>\n<table border=\"1\" class=\"dataframe\">\n  <thead>\n    <tr style=\"text-align: right;\">\n      <th></th>\n      <th>id</th>\n      <th>nome</th>\n      <th>municipio</th>\n    </tr>\n  </thead>\n  <tbody>\n    <tr>\n      <th>0</th>\n      <td>250010605</td>\n      <td>Água Branca</td>\n      <td>{'id': 2500106, 'nome': 'Água Branca', 'microrregiao': {'id': 25007, 'nome': 'Serra do Teixeira', 'mesorregiao': {'id': 2501, 'nome': 'Sertão Paraibano', 'UF': {'id': 25, 'sigla': 'PB', 'nome': 'Paraíba', 'regiao': {'id': 2, 'sigla': 'NE', 'nome': 'Nordeste'}}}}, 'regiao-imediata': {'id': 250009, 'nome': 'Patos', 'regiao-intermediaria': {'id': 2503, 'nome': 'Patos', 'UF': {'id': 25, 'sigla': 'PB', 'nome': 'Paraíba', 'regiao': {'id': 2, 'sigla': 'NE', 'nome': 'Nordeste'}}}}}</td>\n    </tr>\n    <tr>\n      <th>1</th>\n      <td>250020505</td>\n      <td>Aguiar</td>\n      <td>{'id': 2500205, 'nome': 'Aguiar', 'microrregiao': {'id': 25005, 'nome': 'Piancó', 'mesorregiao': {'id': 2501, 'nome': 'Sertão Paraibano', 'UF': {'id': 25, 'sigla': 'PB', 'nome': 'Paraíba', 'regiao': {'id': 2, 'sigla': 'NE', 'nome': 'Nordeste'}}}}, 'regiao-imediata': {'id': 250010, 'nome': 'Itaporanga', 'regiao-intermediaria': {'id': 2503, 'nome': 'Patos', 'UF': {'id': 25, 'sigla': 'PB', 'nome': 'Paraíba', 'regiao': {'id': 2, 'sigla': 'NE', 'nome': 'Nordeste'}}}}}</td>\n    </tr>\n    <tr>\n      <th>2</th>\n      <td>250030405</td>\n      <td>Alagoa Grande</td>\n      <td>{'id': 2500304, 'nome': 'Alagoa Grande', 'microrregiao': {'id': 25015, 'nome': 'Brejo Paraibano', 'mesorregiao': {'id': 2503, 'nome': 'Agreste Paraibano', 'UF': {'id': 25, 'sigla': 'PB', 'nome': 'Paraíba', 'regiao': {'id': 2, 'sigla': 'NE', 'nome': 'Nordeste'}}}}, 'regiao-imediata': {'id': 250005, 'nome': 'Campina Grande', 'regiao-intermediaria': {'id': 2502, 'nome': 'Campina Grande', 'UF': {'id': 25, 'sigla': 'PB', 'nome': 'Paraíba', 'regiao': {'id': 2, 'sigla': 'NE', 'nome': 'Nordeste'}}}}}</td>\n    </tr>\n    <tr>\n      <th>3</th>\n      <td>250040305</td>\n      <td>Alagoa Nova</td>\n      <td>{'id': 2500403, 'nome': 'Alagoa Nova', 'microrregiao': {'id': 25015, 'nome': 'Brejo Paraibano', 'mesorregiao': {'id': 2503, 'nome': 'Agreste Paraibano', 'UF': {'id': 25, 'sigla': 'PB', 'nome': 'Paraíba', 'regiao': {'id': 2, 'sigla': 'NE', 'nome': 'Nordeste'}}}}, 'regiao-imediata': {'id': 250005, 'nome': 'Campina Grande', 'regiao-intermediaria': {'id': 2502, 'nome': 'Campina Grande', 'UF': {'id': 25, 'sigla': 'PB', 'nome': 'Paraíba', 'regiao': {'id': 2, 'sigla': 'NE', 'nome': 'Nordeste'}}}}}</td>\n    </tr>\n    <tr>\n      <th>4</th>\n      <td>250050205</td>\n      <td>Alagoinha</td>\n      <td>{'id': 2500502, 'nome': 'Alagoinha', 'microrregiao': {'id': 25016, 'nome': 'Guarabira', 'mesorregiao': {'id': 2503, 'nome': 'Agreste Paraibano', 'UF': {'id': 25, 'sigla': 'PB', 'nome': 'Paraíba', 'regiao': {'id': 2, 'sigla': 'NE', 'nome': 'Nordeste'}}}}, 'regiao-imediata': {'id': 250002, 'nome': 'Guarabira', 'regiao-intermediaria': {'id': 2501, 'nome': 'João Pessoa', 'UF': {'id': 25, 'sigla': 'PB', 'nome': 'Paraíba', 'regiao': {'id': 2, 'sigla': 'NE', 'nome': 'Nordeste'}}}}}</td>\n    </tr>\n    <tr>\n      <th>...</th>\n      <td>...</td>\n      <td>...</td>\n      <td>...</td>\n    </tr>\n    <tr>\n      <th>292</th>\n      <td>251700110</td>\n      <td>Mata Virgem</td>\n      <td>{'id': 2517001, 'nome': 'Umbuzeiro', 'microrregiao': {'id': 25019, 'nome': 'Umbuzeiro', 'mesorregiao': {'id': 2503, 'nome': 'Agreste Paraibano', 'UF': {'id': 25, 'sigla': 'PB', 'nome': 'Paraíba', 'regiao': {'id': 2, 'sigla': 'NE', 'nome': 'Nordeste'}}}}, 'regiao-imediata': {'id': 250005, 'nome': 'Campina Grande', 'regiao-intermediaria': {'id': 2502, 'nome': 'Campina Grande', 'UF': {'id': 25, 'sigla': 'PB', 'nome': 'Paraíba', 'regiao': {'id': 2, 'sigla': 'NE', 'nome': 'Nordeste'}}}}}</td>\n    </tr>\n    <tr>\n      <th>293</th>\n      <td>251710005</td>\n      <td>Várzea</td>\n      <td>{'id': 2517100, 'nome': 'Várzea', 'microrregiao': {'id': 25008, 'nome': 'Seridó Ocidental Paraibano', 'mesorregiao': {'id': 2502, 'nome': 'Borborema', 'UF': {'id': 25, 'sigla': 'PB', 'nome': 'Paraíba', 'regiao': {'id': 2, 'sigla': 'NE', 'nome': 'Nordeste'}}}}, 'regiao-imediata': {'id': 250009, 'nome': 'Patos', 'regiao-intermediaria': {'id': 2503, 'nome': 'Patos', 'UF': {'id': 25, 'sigla': 'PB', 'nome': 'Paraíba', 'regiao': {'id': 2, 'sigla': 'NE', 'nome': 'Nordeste'}}}}}</td>\n    </tr>\n    <tr>\n      <th>294</th>\n      <td>251720905</td>\n      <td>Vieirópolis</td>\n      <td>{'id': 2517209, 'nome': 'Vieirópolis', 'microrregiao': {'id': 25003, 'nome': 'Sousa', 'mesorregiao': {'id': 2501, 'nome': 'Sertão Paraibano', 'UF': {'id': 25, 'sigla': 'PB', 'nome': 'Paraíba', 'regiao': {'id': 2, 'sigla': 'NE', 'nome': 'Nordeste'}}}}, 'regiao-imediata': {'id': 250014, 'nome': 'Sousa', 'regiao-intermediaria': {'id': 2504, 'nome': 'Sousa - Cajazeiras', 'UF': {'id': 25, 'sigla': 'PB', 'nome': 'Paraíba', 'regiao': {'id': 2, 'sigla': 'NE', 'nome': 'Nordeste'}}}}}</td>\n    </tr>\n    <tr>\n      <th>295</th>\n      <td>250550105</td>\n      <td>Vista Serrana</td>\n      <td>{'id': 2505501, 'nome': 'Vista Serrana', 'microrregiao': {'id': 25003, 'nome': 'Sousa', 'mesorregiao': {'id': 2501, 'nome': 'Sertão Paraibano', 'UF': {'id': 25, 'sigla': 'PB', 'nome': 'Paraíba', 'regiao': {'id': 2, 'sigla': 'NE', 'nome': 'Nordeste'}}}}, 'regiao-imediata': {'id': 250009, 'nome': 'Patos', 'regiao-intermediaria': {'id': 2503, 'nome': 'Patos', 'UF': {'id': 25, 'sigla': 'PB', 'nome': 'Paraíba', 'regiao': {'id': 2, 'sigla': 'NE', 'nome': 'Nordeste'}}}}}</td>\n    </tr>\n    <tr>\n      <th>296</th>\n      <td>251740705</td>\n      <td>Zabelê</td>\n      <td>{'id': 2517407, 'nome': 'Zabelê', 'microrregiao': {'id': 25010, 'nome': 'Cariri Ocidental', 'mesorregiao': {'id': 2502, 'nome': 'Borborema', 'UF': {'id': 25, 'sigla': 'PB', 'nome': 'Paraíba', 'regiao': {'id': 2, 'sigla': 'NE', 'nome': 'Nordeste'}}}}, 'regiao-imediata': {'id': 250007, 'nome': 'Monteiro', 'regiao-intermediaria': {'id': 2502, 'nome': 'Campina Grande', 'UF': {'id': 25, 'sigla': 'PB', 'nome': 'Paraíba', 'regiao': {'id': 2, 'sigla': 'NE', 'nome': 'Nordeste'}}}}}</td>\n    </tr>\n  </tbody>\n</table>\n<p>297 rows × 3 columns</p>\n</div>"
     },
     "execution_count": 38,
     "metadata": {},
     "output_type": "execute_result"
    }
   ],
   "source": [
    "import requests\n",
    "import pandas as pd\n",
    "\n",
    "estado = \"PB\"\n",
    "\n",
    "url = f\"https://servicodados.ibge.gov.br/api/v1/localidades/estados/{estado}/distritos\"\n",
    "\n",
    "response = requests.request(\"GET\", url)\n",
    "resultado = pd.DataFrame(response.json())\n",
    "resultado"
   ],
   "metadata": {
    "collapsed": false,
    "ExecuteTime": {
     "end_time": "2024-03-12T22:47:44.029626Z",
     "start_time": "2024-03-12T22:47:43.468504Z"
    }
   }
  },
  {
   "cell_type": "markdown",
   "source": [
    "# Scrapers"
   ],
   "metadata": {
    "collapsed": false
   }
  },
  {
   "cell_type": "markdown",
   "source": [
    "## Usando a Biblioteca BeautifulSoup\n",
    "\n",
    "### Pegando informações sobre os últimos editais publicados na página do IFPB"
   ],
   "metadata": {
    "collapsed": false
   }
  },
  {
   "cell_type": "code",
   "execution_count": 12,
   "outputs": [
    {
     "name": "stdout",
     "output_type": "stream",
     "text": [
      "Requirement already satisfied: beautifulsoup4 in /Users/diegopessoa/opt/anaconda3/lib/python3.9/site-packages (4.11.1)\r\n",
      "Requirement already satisfied: soupsieve>1.2 in /Users/diegopessoa/opt/anaconda3/lib/python3.9/site-packages (from beautifulsoup4) (2.3.1)\r\n"
     ]
    }
   ],
   "source": [
    "!pip install beautifulsoup4"
   ],
   "metadata": {
    "collapsed": false,
    "ExecuteTime": {
     "end_time": "2024-03-12T17:33:19.897845Z",
     "start_time": "2024-03-12T17:33:15.154761Z"
    }
   }
  },
  {
   "cell_type": "code",
   "execution_count": 29,
   "outputs": [
    {
     "name": "stdout",
     "output_type": "stream",
     "text": [
      "Últimos editais do Portal do IFPB 2022 — Instituto Federal da Paraiba IFPB\n"
     ]
    },
    {
     "data": {
      "text/plain": "                                             Edital  \\\n0                          Edital nº 03/2024 - DGEP   \n1                   Edital n. 8/2024 - Editora IFPB   \n2                        Edital nº 04/2024 - PROEXC   \n3  Edital nº 36/2024 - Professor Substituto do IFPB   \n4            Edital 34/2024 – Programa Mulheres Mil   \n\n                                                                                                                                                                                                                            Descricao  \\\n0                                                                                                                                                                        Oferta vaga de remoção interna para Docente de Contabilidade   \n1                                                                                                                                                                                          SELEÇÃO DE REVISORES DE TEXTO VOLUNTÁRIOS    \n2               Processo Seletivo de estudantes para ingresso no Curso FIC de Eletricista de Sistemas de Energias Renováveis (Instalador de Sistemas Fotovoltaicos), a ser ofertado no âmbito do Instituto Federal da Paraíba (IFPB).   \n3                                            Processo seletivo simplificado, com vistas à contratação de professor substituto, por tempo determinado, para atender às necessidades de excepcional interesse público dos campi do IFPB   \n4  Processo Seletivo Simplificado com o objetivo de selecionar profissionais interessados em atuar, na condição de professores bolsistas, nos cursos a serem ofertados pelo Programa Mulheres Mil, na modalidade Educação Presencial.   \n\n                                                                                                                   Link  \n0                                              https://www.ifpb.edu.br/servidor/editais/ano-2024/edital-no-03-2024-dgep  \n1                                          https://www.ifpb.edu.br/prpipg/editais/ano-2024/edital-n-8-2024-editora-ifpb  \n2                                     https://www.ifpb.edu.br/proexc/editais/extensao/ano-2024/edital-no-04-2024-proexc  \n3  https://www.ifpb.edu.br/concursopublico/professor-substituto/vigentes/edital-no-36-2024-professor-substituto-do-ifpb  \n4                  https://www.ifpb.edu.br/concursopublico/outros-editais/vigentes/edital-34-2024-programa-mulheres-mil  ",
      "text/html": "<div>\n<style scoped>\n    .dataframe tbody tr th:only-of-type {\n        vertical-align: middle;\n    }\n\n    .dataframe tbody tr th {\n        vertical-align: top;\n    }\n\n    .dataframe thead th {\n        text-align: right;\n    }\n</style>\n<table border=\"1\" class=\"dataframe\">\n  <thead>\n    <tr style=\"text-align: right;\">\n      <th></th>\n      <th>Edital</th>\n      <th>Descricao</th>\n      <th>Link</th>\n    </tr>\n  </thead>\n  <tbody>\n    <tr>\n      <th>0</th>\n      <td>Edital nº 03/2024 - DGEP</td>\n      <td>Oferta vaga de remoção interna para Docente de Contabilidade</td>\n      <td>https://www.ifpb.edu.br/servidor/editais/ano-2024/edital-no-03-2024-dgep</td>\n    </tr>\n    <tr>\n      <th>1</th>\n      <td>Edital n. 8/2024 - Editora IFPB</td>\n      <td>SELEÇÃO DE REVISORES DE TEXTO VOLUNTÁRIOS</td>\n      <td>https://www.ifpb.edu.br/prpipg/editais/ano-2024/edital-n-8-2024-editora-ifpb</td>\n    </tr>\n    <tr>\n      <th>2</th>\n      <td>Edital nº 04/2024 - PROEXC</td>\n      <td>Processo Seletivo de estudantes para ingresso no Curso FIC de Eletricista de Sistemas de Energias Renováveis (Instalador de Sistemas Fotovoltaicos), a ser ofertado no âmbito do Instituto Federal da Paraíba (IFPB).</td>\n      <td>https://www.ifpb.edu.br/proexc/editais/extensao/ano-2024/edital-no-04-2024-proexc</td>\n    </tr>\n    <tr>\n      <th>3</th>\n      <td>Edital nº 36/2024 - Professor Substituto do IFPB</td>\n      <td>Processo seletivo simplificado, com vistas à contratação de professor substituto, por tempo determinado, para atender às necessidades de excepcional interesse público dos campi do IFPB</td>\n      <td>https://www.ifpb.edu.br/concursopublico/professor-substituto/vigentes/edital-no-36-2024-professor-substituto-do-ifpb</td>\n    </tr>\n    <tr>\n      <th>4</th>\n      <td>Edital 34/2024 – Programa Mulheres Mil</td>\n      <td>Processo Seletivo Simplificado com o objetivo de selecionar profissionais interessados em atuar, na condição de professores bolsistas, nos cursos a serem ofertados pelo Programa Mulheres Mil, na modalidade Educação Presencial.</td>\n      <td>https://www.ifpb.edu.br/concursopublico/outros-editais/vigentes/edital-34-2024-programa-mulheres-mil</td>\n    </tr>\n  </tbody>\n</table>\n</div>"
     },
     "execution_count": 29,
     "metadata": {},
     "output_type": "execute_result"
    }
   ],
   "source": [
    "from bs4 import BeautifulSoup\n",
    "url = \"https://www.ifpb.edu.br/home_2022\"\n",
    "response = requests.get(url)\n",
    "\n",
    "soup = BeautifulSoup(response.content, 'html.parser')\n",
    "title = soup.title.string\n",
    "print(\"Últimos editais do\", title)\n",
    "\n",
    "df_editais = pd.DataFrame(columns={'Edital': [], 'Descricao': [], 'Link': []})\n",
    "pd.set_option('display.max_colwidth', None)\n",
    "\n",
    "editais = soup.find_all('div', class_='colecao-editais')[0].find_all('h2')\n",
    "for i, edital in enumerate(editais):\n",
    "    titulo = edital.text.replace(\"\\n\", \"\")\n",
    "    descricao = edital.find_next('p', class_='description').text.replace(\"\\n\", \"\")\n",
    "    link = edital.a['href']\n",
    "    df_editais.loc[i] = [titulo, descricao, link]\n",
    "\n",
    "df_editais"
   ],
   "metadata": {
    "collapsed": false,
    "ExecuteTime": {
     "end_time": "2024-03-12T17:41:19.666401Z",
     "start_time": "2024-03-12T17:41:18.999087Z"
    }
   }
  },
  {
   "cell_type": "markdown",
   "source": [
    "# Crawlers\n",
    "## Usando a Biblioteca Scrapy\n",
    "\n",
    "Obtendo dados do site [https://ccsakura.fandom.com/wiki/Clow_Cards](https://ccsakura.fandom.com/wiki/Clow_Cards) e sub-páginas usando a biblioteca [Scrapy](https://scrapy.org/)"
   ],
   "metadata": {
    "collapsed": false
   }
  },
  {
   "cell_type": "code",
   "execution_count": 30,
   "outputs": [
    {
     "name": "stdout",
     "output_type": "stream",
     "text": [
      "/Users/diegopessoa/projects/ifpb/banco-de-dados/04-apis-scrapers-crawlers/sakura\n"
     ]
    }
   ],
   "source": [
    "%cd \"sakura\""
   ],
   "metadata": {
    "collapsed": false,
    "ExecuteTime": {
     "end_time": "2024-03-12T17:41:55.607472Z",
     "start_time": "2024-03-12T17:41:55.599080Z"
    }
   }
  },
  {
   "cell_type": "code",
   "execution_count": 31,
   "outputs": [
    {
     "data": {
      "text/plain": "'/Users/diegopessoa/projects/ifpb/banco-de-dados/04-apis-scrapers-crawlers/sakura'"
     },
     "execution_count": 31,
     "metadata": {},
     "output_type": "execute_result"
    }
   ],
   "source": [
    "pwd"
   ],
   "metadata": {
    "collapsed": false,
    "ExecuteTime": {
     "end_time": "2024-03-12T17:41:56.915461Z",
     "start_time": "2024-03-12T17:41:56.910629Z"
    }
   }
  },
  {
   "cell_type": "code",
   "execution_count": 39,
   "outputs": [
    {
     "name": "stdout",
     "output_type": "stream",
     "text": [
      "/Users/diegopessoa/projects/ifpb/banco-de-dados/04-apis-scrapers-crawlers/sakura/crawlers/loaders.py:13: ScrapyDeprecationWarning: scrapy.loader.processors.TakeFirst is deprecated, instantiate itemloaders.processors.TakeFirst instead.\r\n",
      "  default_output_processor = TakeFirst()\r\n",
      "2024-03-12 20:13:07 [scrapy.utils.log] INFO: Scrapy 2.6.2 started (bot: crawlers)\r\n",
      "2024-03-12 20:13:07 [scrapy.utils.log] INFO: Versions: lxml 4.9.1.0, libxml2 2.9.14, cssselect 1.1.0, parsel 1.6.0, w3lib 1.21.0, Twisted 22.2.0, Python 3.9.13 (main, Aug 25 2022, 18:29:29) - [Clang 12.0.0 ], pyOpenSSL 22.0.0 (OpenSSL 1.1.1q  5 Jul 2022), cryptography 37.0.1, Platform macOS-10.16-x86_64-i386-64bit\r\n",
      "2024-03-12 20:13:07 [scrapy.crawler] INFO: Overridden settings:\r\n",
      "{'AUTOTHROTTLE_ENABLED': True,\r\n",
      " 'BOT_NAME': 'crawlers',\r\n",
      " 'CONCURRENT_REQUESTS': 32,\r\n",
      " 'CONCURRENT_REQUESTS_PER_DOMAIN': 16,\r\n",
      " 'CONCURRENT_REQUESTS_PER_IP': 16,\r\n",
      " 'COOKIES_ENABLED': False,\r\n",
      " 'DOWNLOAD_DELAY': 3,\r\n",
      " 'NEWSPIDER_MODULE': 'crawlers.spiders',\r\n",
      " 'ROBOTSTXT_OBEY': True,\r\n",
      " 'SPIDER_MODULES': ['crawlers.spiders'],\r\n",
      " 'USER_AGENT': 'The CardCaptor sakura'}\r\n",
      "2024-03-12 20:13:07 [scrapy.utils.log] DEBUG: Using reactor: twisted.internet.selectreactor.SelectReactor\r\n",
      "2024-03-12 20:13:08 [scrapy.extensions.telnet] INFO: Telnet Password: fec8134d5f344f0e\r\n",
      "2024-03-12 20:13:08 [scrapy.middleware] INFO: Enabled extensions:\r\n",
      "['scrapy.extensions.corestats.CoreStats',\r\n",
      " 'scrapy.extensions.telnet.TelnetConsole',\r\n",
      " 'scrapy.extensions.memusage.MemoryUsage',\r\n",
      " 'scrapy.extensions.feedexport.FeedExporter',\r\n",
      " 'scrapy.extensions.logstats.LogStats',\r\n",
      " 'scrapy.extensions.throttle.AutoThrottle']\r\n",
      "2024-03-12 20:13:08 [scrapy.middleware] INFO: Enabled downloader middlewares:\r\n",
      "['scrapy.downloadermiddlewares.robotstxt.RobotsTxtMiddleware',\r\n",
      " 'scrapy.downloadermiddlewares.httpauth.HttpAuthMiddleware',\r\n",
      " 'scrapy.downloadermiddlewares.downloadtimeout.DownloadTimeoutMiddleware',\r\n",
      " 'scrapy.downloadermiddlewares.defaultheaders.DefaultHeadersMiddleware',\r\n",
      " 'scrapy.downloadermiddlewares.useragent.UserAgentMiddleware',\r\n",
      " 'scrapy.downloadermiddlewares.retry.RetryMiddleware',\r\n",
      " 'scrapy.downloadermiddlewares.redirect.MetaRefreshMiddleware',\r\n",
      " 'scrapy.downloadermiddlewares.httpcompression.HttpCompressionMiddleware',\r\n",
      " 'scrapy.downloadermiddlewares.redirect.RedirectMiddleware',\r\n",
      " 'scrapy.downloadermiddlewares.httpproxy.HttpProxyMiddleware',\r\n",
      " 'scrapy.downloadermiddlewares.stats.DownloaderStats']\r\n",
      "2024-03-12 20:13:08 [scrapy.middleware] INFO: Enabled spider middlewares:\r\n",
      "['scrapy.spidermiddlewares.httperror.HttpErrorMiddleware',\r\n",
      " 'scrapy.spidermiddlewares.offsite.OffsiteMiddleware',\r\n",
      " 'scrapy.spidermiddlewares.referer.RefererMiddleware',\r\n",
      " 'scrapy.spidermiddlewares.urllength.UrlLengthMiddleware',\r\n",
      " 'scrapy.spidermiddlewares.depth.DepthMiddleware']\r\n",
      "2024-03-12 20:13:08 [scrapy.middleware] INFO: Enabled item pipelines:\r\n",
      "[]\r\n",
      "2024-03-12 20:13:08 [scrapy.core.engine] INFO: Spider opened\r\n",
      "2024-03-12 20:13:08 [scrapy.extensions.logstats] INFO: Crawled 0 pages (at 0 pages/min), scraped 0 items (at 0 items/min)\r\n",
      "2024-03-12 20:13:08 [scrapy.extensions.telnet] INFO: Telnet console listening on 127.0.0.1:6023\r\n",
      "2024-03-12 20:13:12 [scrapy.core.engine] DEBUG: Crawled (200) <GET https://ccsakura.fandom.com/robots.txt> (referer: None)\r\n",
      "2024-03-12 20:13:12 [scrapy.core.engine] DEBUG: Crawled (200) <GET https://ccsakura.fandom.com/wiki/Clow_Cards> (referer: None)\r\n",
      "2024-03-12 20:13:12 [scrapy.dupefilters] DEBUG: Filtered duplicate request: <GET https://ccsakura.fandom.com/wiki/The_Windy> - no more duplicates will be shown (see DUPEFILTER_DEBUG to show all duplicates)\r\n",
      "2024-03-12 20:13:17 [scrapy.core.engine] DEBUG: Crawled (200) <GET https://ccsakura.fandom.com/wiki/The_Arrow> (referer: https://ccsakura.fandom.com/wiki/Clow_Cards)\r\n",
      "2024-03-12 20:13:17 [scrapy.core.scraper] DEBUG: Scraped from <200 https://ccsakura.fandom.com/wiki/The_Arrow>\r\n",
      "{'card_type': 'Clow Card'}\r\n",
      "2024-03-12 20:13:21 [scrapy.core.engine] DEBUG: Crawled (200) <GET https://ccsakura.fandom.com/wiki/The_Wood> (referer: https://ccsakura.fandom.com/wiki/Clow_Cards)\r\n",
      "2024-03-12 20:13:21 [scrapy.core.scraper] DEBUG: Scraped from <200 https://ccsakura.fandom.com/wiki/The_Wood>\r\n",
      "{'card_type': 'Clow Card'}\r\n",
      "2024-03-12 20:13:25 [scrapy.core.engine] DEBUG: Crawled (200) <GET https://ccsakura.fandom.com/wiki/The_Windy> (referer: https://ccsakura.fandom.com/wiki/Clow_Cards)\r\n",
      "2024-03-12 20:13:25 [scrapy.core.scraper] DEBUG: Scraped from <200 https://ccsakura.fandom.com/wiki/The_Windy>\r\n",
      "{'card_type': 'Clow Card'}\r\n",
      "2024-03-12 20:13:29 [scrapy.core.engine] DEBUG: Crawled (200) <GET https://ccsakura.fandom.com/wiki/The_Wave> (referer: https://ccsakura.fandom.com/wiki/Clow_Cards)\r\n",
      "2024-03-12 20:13:29 [scrapy.core.scraper] DEBUG: Scraped from <200 https://ccsakura.fandom.com/wiki/The_Wave>\r\n",
      "{'card_type': 'Clow Card'}\r\n",
      "2024-03-12 20:13:32 [scrapy.core.engine] DEBUG: Crawled (200) <GET https://ccsakura.fandom.com/wiki/The_Watery> (referer: https://ccsakura.fandom.com/wiki/Clow_Cards)\r\n",
      "2024-03-12 20:13:32 [scrapy.core.scraper] DEBUG: Scraped from <200 https://ccsakura.fandom.com/wiki/The_Watery>\r\n",
      "{'card_type': 'Clow Card'}\r\n",
      "2024-03-12 20:13:36 [scrapy.core.engine] DEBUG: Crawled (200) <GET https://ccsakura.fandom.com/wiki/The_Voice> (referer: https://ccsakura.fandom.com/wiki/Clow_Cards)\r\n",
      "2024-03-12 20:13:36 [scrapy.core.scraper] DEBUG: Scraped from <200 https://ccsakura.fandom.com/wiki/The_Voice>\r\n",
      "{'card_type': 'Clow Card'}\r\n",
      "2024-03-12 20:13:40 [scrapy.core.engine] DEBUG: Crawled (200) <GET https://ccsakura.fandom.com/wiki/The_Twin> (referer: https://ccsakura.fandom.com/wiki/Clow_Cards)\r\n",
      "2024-03-12 20:13:40 [scrapy.core.scraper] DEBUG: Scraped from <200 https://ccsakura.fandom.com/wiki/The_Twin>\r\n",
      "{'card_type': 'Clow Card'}\r\n",
      "2024-03-12 20:13:44 [scrapy.core.engine] DEBUG: Crawled (200) <GET https://ccsakura.fandom.com/wiki/The_Time> (referer: https://ccsakura.fandom.com/wiki/Clow_Cards)\r\n",
      "2024-03-12 20:13:44 [scrapy.core.scraper] DEBUG: Scraped from <200 https://ccsakura.fandom.com/wiki/The_Time>\r\n",
      "{'card_type': 'Clow Card'}\r\n",
      "2024-03-12 20:13:48 [scrapy.core.engine] DEBUG: Crawled (200) <GET https://ccsakura.fandom.com/wiki/The_Thunder> (referer: https://ccsakura.fandom.com/wiki/Clow_Cards)\r\n",
      "2024-03-12 20:13:49 [scrapy.core.scraper] DEBUG: Scraped from <200 https://ccsakura.fandom.com/wiki/The_Thunder>\r\n",
      "{'card_type': 'Clow Card'}\r\n",
      "^C\r\n",
      "2024-03-12 20:13:52 [scrapy.crawler] INFO: Received SIGINT, shutting down gracefully. Send again to force \r\n",
      "2024-03-12 20:13:52 [scrapy.core.engine] INFO: Closing spider (shutdown)\r\n",
      "^C\r\n",
      "Traceback (most recent call last):\r\n",
      "  File \"/Users/diegopessoa/opt/anaconda3/bin/scrapy\", line 11, in <module>\r\n",
      "    sys.exit(execute())\r\n",
      "  File \"/Users/diegopessoa/opt/anaconda3/lib/python3.9/site-packages/scrapy/cmdline.py\", line 153, in execute\r\n",
      "    cmd.crawler_process = CrawlerProcess(settings)\r\n",
      "  File \"/Users/diegopessoa/opt/anaconda3/lib/python3.9/site-packages/scrapy/crawler.py\", line 289, in __init__\r\n",
      "    super().__init__(settings)\r\n",
      "  File \"/Users/diegopessoa/opt/anaconda3/lib/python3.9/site-packages/scrapy/crawler.py\", line 166, in __init__\r\n",
      "    self.spider_loader = self._get_spider_loader(settings)\r\n",
      "  File \"/Users/diegopessoa/opt/anaconda3/lib/python3.9/site-packages/scrapy/crawler.py\", line 160, in _get_spider_loader\r\n",
      "    return loader_cls.from_settings(settings.frozencopy())\r\n",
      "  File \"/Users/diegopessoa/opt/anaconda3/lib/python3.9/site-packages/scrapy/spiderloader.py\", line 67, in from_settings\r\n",
      "    return cls(settings)\r\n",
      "  File \"/Users/diegopessoa/opt/anaconda3/lib/python3.9/site-packages/scrapy/spiderloader.py\", line 24, in __init__\r\n",
      "    self._load_all_spiders()\r\n",
      "  File \"/Users/diegopessoa/opt/anaconda3/lib/python3.9/site-packages/scrapy/spiderloader.py\", line 51, in _load_all_spiders\r\n",
      "    for module in walk_modules(name):\r\n",
      "  File \"/Users/diegopessoa/opt/anaconda3/lib/python3.9/site-packages/scrapy/utils/misc.py\", line 88, in walk_modules\r\n",
      "    submod = import_module(fullpath)\r\n",
      "  File \"/Users/diegopessoa/opt/anaconda3/lib/python3.9/importlib/__init__.py\", line 127, in import_module\r\n",
      "    return _bootstrap._gcd_import(name[level:], package, level)\r\n",
      "  File \"<frozen importlib._bootstrap>\", line 1030, in _gcd_import\r\n",
      "  File \"<frozen importlib._bootstrap>\", line 1007, in _find_and_load\r\n",
      "  File \"<frozen importlib._bootstrap>\", line 986, in _find_and_load_unlocked\r\n",
      "  File \"<frozen importlib._bootstrap>\", line 680, in _load_unlocked\r\n",
      "  File \"<frozen importlib._bootstrap_external>\", line 850, in exec_module\r\n",
      "  File \"<frozen importlib._bootstrap>\", line 228, in _call_with_frames_removed\r\n",
      "  File \"/Users/diegopessoa/projects/ifpb/banco-de-dados/04-apis-scrapers-crawlers/sakura/crawlers/spiders/clow_cards_spider.py\", line 4, in <module>\r\n",
      "    from loaders import ClowCardLoader\r\n",
      "  File \"/Users/diegopessoa/projects/ifpb/banco-de-dados/04-apis-scrapers-crawlers/sakura/crawlers/loaders.py\", line 2, in <module>\r\n",
      "    from scrapy.loader.processors import TakeFirst\r\n",
      "  File \"/Users/diegopessoa/opt/anaconda3/lib/python3.9/site-packages/scrapy/loader/processors.py\", line 15, in <module>\r\n",
      "    TakeFirst = create_deprecated_class('TakeFirst', processors.TakeFirst)\r\n",
      "  File \"/Users/diegopessoa/opt/anaconda3/lib/python3.9/site-packages/scrapy/utils/deprecate.py\", line 109, in create_deprecated_class\r\n",
      "    frm = inspect.stack()[1]\r\n",
      "  File \"/Users/diegopessoa/opt/anaconda3/lib/python3.9/inspect.py\", line 1554, in stack\r\n",
      "    return getouterframes(sys._getframe(1), context)\r\n",
      "  File \"/Users/diegopessoa/opt/anaconda3/lib/python3.9/inspect.py\", line 1531, in getouterframes\r\n",
      "    frameinfo = (frame,) + getframeinfo(frame, context)\r\n",
      "  File \"/Users/diegopessoa/opt/anaconda3/lib/python3.9/inspect.py\", line 1501, in getframeinfo\r\n",
      "    filename = getsourcefile(frame) or getfile(frame)\r\n",
      "  File \"/Users/diegopessoa/opt/anaconda3/lib/python3.9/inspect.py\", line 709, in getsourcefile\r\n",
      "    if getattr(getmodule(object, filename), '__loader__', None) is not None:\r\n",
      "  File \"/Users/diegopessoa/opt/anaconda3/lib/python3.9/inspect.py\", line 746, in getmodule\r\n",
      "    if ismodule(module) and hasattr(module, '__file__'):\r\n",
      "KeyboardInterrupt\r\n"
     ]
    }
   ],
   "source": [
    "!scrapy crawl clow-cards -o clow-cards.json\n",
    "!scrapy crawl clow-cards -o sakura-cards.json"
   ],
   "metadata": {
    "collapsed": false,
    "ExecuteTime": {
     "end_time": "2024-03-12T23:13:53.418800Z",
     "start_time": "2024-03-12T23:13:06.997281Z"
    }
   }
  },
  {
   "cell_type": "code",
   "execution_count": 35,
   "outputs": [
    {
     "data": {
      "text/plain": "            card  card_type  \\\n0      The Arrow  Clow Card   \n1      The Firey  Clow Card   \n2      The Fight  Clow Card   \n3      The Erase  Clow Card   \n4     The Earthy  Clow Card   \n5      The Dream  Clow Card   \n6       The Dash  Clow Card   \n7       The Dark  Clow Card   \n8     The Create  Clow Card   \n9      The Cloud  Clow Card   \n10    The Change  Clow Card   \n11   The Bubbles  Clow Card   \n12       The Big  Clow Card   \n13    The Watery  Clow Card   \n14     The Voice  Clow Card   \n15      The Twin  Clow Card   \n16      The Time  Clow Card   \n17   The Thunder  Clow Card   \n18   The Through  Clow Card   \n19     The Sword  Clow Card   \n20     The Sweet  Clow Card   \n21     The Storm  Clow Card   \n22      The Song  Clow Card   \n23      The Snow  Clow Card   \n24     The Sleep  Clow Card   \n25    The Silent  Clow Card   \n26      The Shot  Clow Card   \n27    The Shield  Clow Card   \n28    The Shadow  Clow Card   \n29      The Sand  Clow Card   \n30    The Return  Clow Card   \n31      The Rain  Clow Card   \n32      The Wood  Clow Card   \n33     The Windy  Clow Card   \n34      The Wave  Clow Card   \n35     The Power  Clow Card   \n36   The Nothing  Clow Card   \n37      The Move  Clow Card   \n38      The Mist  Clow Card   \n39    The Mirror  Clow Card   \n40      The Maze  Clow Card   \n41      The Loop  Clow Card   \n42      The Lock  Clow Card   \n43    The Little  Clow Card   \n44     The Light  Clow Card   \n45     The Libra  Clow Card   \n46      The Jump  Clow Card   \n47  The Illusion  Clow Card   \n48      The Glow  Clow Card   \n49    The Freeze  Clow Card   \n50       The Fly  Clow Card   \n51    The Flower  Clow Card   \n52     The Float  Clow Card   \n\n                                                                 img_url  \\\n0      https://vignette.wikia.nocookie.net/ccs/images/8/80/ClowArrow.jpg   \n1      https://vignette.wikia.nocookie.net/ccs/images/1/12/ClowFirey.jpg   \n2      https://vignette.wikia.nocookie.net/ccs/images/1/16/ClowFight.jpg   \n3      https://vignette.wikia.nocookie.net/ccs/images/5/57/ClowErase.jpg   \n4     https://vignette.wikia.nocookie.net/ccs/images/7/72/ClowEarthy.jpg   \n5      https://vignette.wikia.nocookie.net/ccs/images/8/88/ClowDream.jpg   \n6       https://vignette.wikia.nocookie.net/ccs/images/2/2c/ClowDash.jpg   \n7       https://vignette.wikia.nocookie.net/ccs/images/5/56/ClowDark.jpg   \n8     https://vignette.wikia.nocookie.net/ccs/images/9/9c/ClowCreate.jpg   \n9      https://vignette.wikia.nocookie.net/ccs/images/a/a2/ClowCloud.jpg   \n10    https://vignette.wikia.nocookie.net/ccs/images/d/de/ClowChange.jpg   \n11   https://vignette.wikia.nocookie.net/ccs/images/8/8d/ClowBubbles.jpg   \n12       https://vignette.wikia.nocookie.net/ccs/images/8/8b/ClowBig.jpg   \n13    https://vignette.wikia.nocookie.net/ccs/images/5/55/ClowWatery.jpg   \n14     https://vignette.wikia.nocookie.net/ccs/images/d/d7/ClowVoice.jpg   \n15      https://vignette.wikia.nocookie.net/ccs/images/5/5a/ClowTwin.jpg   \n16      https://vignette.wikia.nocookie.net/ccs/images/6/62/ClowTime.jpg   \n17   https://vignette.wikia.nocookie.net/ccs/images/d/da/ClowThunder.jpg   \n18   https://vignette.wikia.nocookie.net/ccs/images/d/d0/ClowThrough.jpg   \n19     https://vignette.wikia.nocookie.net/ccs/images/2/2c/ClowSword.jpg   \n20     https://vignette.wikia.nocookie.net/ccs/images/e/e0/ClowSweet.jpg   \n21     https://vignette.wikia.nocookie.net/ccs/images/5/58/ClowStorm.jpg   \n22      https://vignette.wikia.nocookie.net/ccs/images/4/46/ClowSong.jpg   \n23      https://vignette.wikia.nocookie.net/ccs/images/2/2a/ClowSnow.jpg   \n24     https://vignette.wikia.nocookie.net/ccs/images/e/e8/ClowSleep.jpg   \n25    https://vignette.wikia.nocookie.net/ccs/images/b/b7/ClowSilent.jpg   \n26      https://vignette.wikia.nocookie.net/ccs/images/7/7c/ClowShot.jpg   \n27    https://vignette.wikia.nocookie.net/ccs/images/a/a7/ClowShield.jpg   \n28    https://vignette.wikia.nocookie.net/ccs/images/c/c8/ClowShadow.jpg   \n29      https://vignette.wikia.nocookie.net/ccs/images/1/1e/ClowSand.jpg   \n30    https://vignette.wikia.nocookie.net/ccs/images/2/22/ClowReturn.jpg   \n31      https://vignette.wikia.nocookie.net/ccs/images/b/b2/ClowRain.jpg   \n32      https://vignette.wikia.nocookie.net/ccs/images/e/e8/ClowWood.jpg   \n33     https://vignette.wikia.nocookie.net/ccs/images/a/ac/ClowWindy.jpg   \n34      https://vignette.wikia.nocookie.net/ccs/images/1/17/ClowWave.jpg   \n35     https://vignette.wikia.nocookie.net/ccs/images/c/c8/ClowPower.jpg   \n36   https://vignette.wikia.nocookie.net/ccs/images/2/22/ClowNothing.jpg   \n37      https://vignette.wikia.nocookie.net/ccs/images/0/00/ClowMove.jpg   \n38      https://vignette.wikia.nocookie.net/ccs/images/4/4f/ClowMist.jpg   \n39    https://vignette.wikia.nocookie.net/ccs/images/e/ec/ClowMirror.jpg   \n40      https://vignette.wikia.nocookie.net/ccs/images/e/e9/ClowMaze.jpg   \n41      https://vignette.wikia.nocookie.net/ccs/images/1/1c/ClowLoop.jpg   \n42      https://vignette.wikia.nocookie.net/ccs/images/d/d8/ClowLock.jpg   \n43    https://vignette.wikia.nocookie.net/ccs/images/c/cd/ClowLittle.jpg   \n44     https://vignette.wikia.nocookie.net/ccs/images/6/66/ClowLight.jpg   \n45     https://vignette.wikia.nocookie.net/ccs/images/7/75/ClowLibra.jpg   \n46      https://vignette.wikia.nocookie.net/ccs/images/f/ff/ClowJump.jpg   \n47  https://vignette.wikia.nocookie.net/ccs/images/2/2d/ClowIllusion.jpg   \n48      https://vignette.wikia.nocookie.net/ccs/images/b/b4/ClowGlow.jpg   \n49    https://vignette.wikia.nocookie.net/ccs/images/0/00/ClowFreeze.jpg   \n50       https://vignette.wikia.nocookie.net/ccs/images/3/3c/ClowFly.jpg   \n51    https://vignette.wikia.nocookie.net/ccs/images/d/da/ClowFlower.jpg   \n52     https://vignette.wikia.nocookie.net/ccs/images/2/26/ClowFloat.jpg   \n\n       magic_type  sign  \n0   Western Magic   Sun  \n1             NaN   Sun  \n2   Western Magic   Sun  \n3   Eastern Magic  Moon  \n4   Western Magic   Sun  \n5   Eastern Magic  Moon  \n6   Eastern Magic  Moon  \n7   Eastern Magic  Moon  \n8   Western Magic   Sun  \n9   Eastern Magic  Moon  \n10  Eastern Magic  Moon  \n11  Eastern Magic  Moon  \n12  Western Magic   Sun  \n13  Eastern Magic  Moon  \n14  Eastern Magic  Moon  \n15  Western Magic   Sun  \n16  Eastern Magic  Moon  \n17  Western Magic   Sun  \n18  Western Magic   Sun  \n19  Western Magic   Sun  \n20  Western Magic   Sun  \n21  Eastern Magic  Moon  \n22  Eastern Magic  Moon  \n23  Eastern Magic  Moon  \n24  Eastern Magic  Moon  \n25  Eastern Magic  Moon  \n26  Western Magic   Sun  \n27  Western Magic   Sun  \n28  Western Magic   Sun  \n29  Western Magic   Sun  \n30  Western Magic   Sun  \n31  Eastern Magic  Moon  \n32  Eastern Magic  Moon  \n33  Eastern Magic  Moon  \n34  Eastern Magic  Moon  \n35  Western Magic   Sun  \n36        Unknown  Star  \n37  Eastern Magic  Moon  \n38  Eastern Magic  Moon  \n39  Western Magic   Sun  \n40  Western magic   Sun  \n41  Western Magic   Sun  \n42  Western Magic   Sun  \n43  Western Magic   Sun  \n44  Western Magic   Sun  \n45  Western Magic   Sun  \n46  Eastern Magic  Moon  \n47  Eastern Magic  Moon  \n48  Western Magic   Sun  \n49  Eastern Magic  Moon  \n50  Eastern Magic  Moon  \n51  Western Magic   Sun  \n52  Eastern Magic  Moon  ",
      "text/html": "<div>\n<style scoped>\n    .dataframe tbody tr th:only-of-type {\n        vertical-align: middle;\n    }\n\n    .dataframe tbody tr th {\n        vertical-align: top;\n    }\n\n    .dataframe thead th {\n        text-align: right;\n    }\n</style>\n<table border=\"1\" class=\"dataframe\">\n  <thead>\n    <tr style=\"text-align: right;\">\n      <th></th>\n      <th>card</th>\n      <th>card_type</th>\n      <th>img_url</th>\n      <th>magic_type</th>\n      <th>sign</th>\n    </tr>\n  </thead>\n  <tbody>\n    <tr>\n      <th>0</th>\n      <td>The Arrow</td>\n      <td>Clow Card</td>\n      <td>https://vignette.wikia.nocookie.net/ccs/images/8/80/ClowArrow.jpg</td>\n      <td>Western Magic</td>\n      <td>Sun</td>\n    </tr>\n    <tr>\n      <th>1</th>\n      <td>The Firey</td>\n      <td>Clow Card</td>\n      <td>https://vignette.wikia.nocookie.net/ccs/images/1/12/ClowFirey.jpg</td>\n      <td>NaN</td>\n      <td>Sun</td>\n    </tr>\n    <tr>\n      <th>2</th>\n      <td>The Fight</td>\n      <td>Clow Card</td>\n      <td>https://vignette.wikia.nocookie.net/ccs/images/1/16/ClowFight.jpg</td>\n      <td>Western Magic</td>\n      <td>Sun</td>\n    </tr>\n    <tr>\n      <th>3</th>\n      <td>The Erase</td>\n      <td>Clow Card</td>\n      <td>https://vignette.wikia.nocookie.net/ccs/images/5/57/ClowErase.jpg</td>\n      <td>Eastern Magic</td>\n      <td>Moon</td>\n    </tr>\n    <tr>\n      <th>4</th>\n      <td>The Earthy</td>\n      <td>Clow Card</td>\n      <td>https://vignette.wikia.nocookie.net/ccs/images/7/72/ClowEarthy.jpg</td>\n      <td>Western Magic</td>\n      <td>Sun</td>\n    </tr>\n    <tr>\n      <th>5</th>\n      <td>The Dream</td>\n      <td>Clow Card</td>\n      <td>https://vignette.wikia.nocookie.net/ccs/images/8/88/ClowDream.jpg</td>\n      <td>Eastern Magic</td>\n      <td>Moon</td>\n    </tr>\n    <tr>\n      <th>6</th>\n      <td>The Dash</td>\n      <td>Clow Card</td>\n      <td>https://vignette.wikia.nocookie.net/ccs/images/2/2c/ClowDash.jpg</td>\n      <td>Eastern Magic</td>\n      <td>Moon</td>\n    </tr>\n    <tr>\n      <th>7</th>\n      <td>The Dark</td>\n      <td>Clow Card</td>\n      <td>https://vignette.wikia.nocookie.net/ccs/images/5/56/ClowDark.jpg</td>\n      <td>Eastern Magic</td>\n      <td>Moon</td>\n    </tr>\n    <tr>\n      <th>8</th>\n      <td>The Create</td>\n      <td>Clow Card</td>\n      <td>https://vignette.wikia.nocookie.net/ccs/images/9/9c/ClowCreate.jpg</td>\n      <td>Western Magic</td>\n      <td>Sun</td>\n    </tr>\n    <tr>\n      <th>9</th>\n      <td>The Cloud</td>\n      <td>Clow Card</td>\n      <td>https://vignette.wikia.nocookie.net/ccs/images/a/a2/ClowCloud.jpg</td>\n      <td>Eastern Magic</td>\n      <td>Moon</td>\n    </tr>\n    <tr>\n      <th>10</th>\n      <td>The Change</td>\n      <td>Clow Card</td>\n      <td>https://vignette.wikia.nocookie.net/ccs/images/d/de/ClowChange.jpg</td>\n      <td>Eastern Magic</td>\n      <td>Moon</td>\n    </tr>\n    <tr>\n      <th>11</th>\n      <td>The Bubbles</td>\n      <td>Clow Card</td>\n      <td>https://vignette.wikia.nocookie.net/ccs/images/8/8d/ClowBubbles.jpg</td>\n      <td>Eastern Magic</td>\n      <td>Moon</td>\n    </tr>\n    <tr>\n      <th>12</th>\n      <td>The Big</td>\n      <td>Clow Card</td>\n      <td>https://vignette.wikia.nocookie.net/ccs/images/8/8b/ClowBig.jpg</td>\n      <td>Western Magic</td>\n      <td>Sun</td>\n    </tr>\n    <tr>\n      <th>13</th>\n      <td>The Watery</td>\n      <td>Clow Card</td>\n      <td>https://vignette.wikia.nocookie.net/ccs/images/5/55/ClowWatery.jpg</td>\n      <td>Eastern Magic</td>\n      <td>Moon</td>\n    </tr>\n    <tr>\n      <th>14</th>\n      <td>The Voice</td>\n      <td>Clow Card</td>\n      <td>https://vignette.wikia.nocookie.net/ccs/images/d/d7/ClowVoice.jpg</td>\n      <td>Eastern Magic</td>\n      <td>Moon</td>\n    </tr>\n    <tr>\n      <th>15</th>\n      <td>The Twin</td>\n      <td>Clow Card</td>\n      <td>https://vignette.wikia.nocookie.net/ccs/images/5/5a/ClowTwin.jpg</td>\n      <td>Western Magic</td>\n      <td>Sun</td>\n    </tr>\n    <tr>\n      <th>16</th>\n      <td>The Time</td>\n      <td>Clow Card</td>\n      <td>https://vignette.wikia.nocookie.net/ccs/images/6/62/ClowTime.jpg</td>\n      <td>Eastern Magic</td>\n      <td>Moon</td>\n    </tr>\n    <tr>\n      <th>17</th>\n      <td>The Thunder</td>\n      <td>Clow Card</td>\n      <td>https://vignette.wikia.nocookie.net/ccs/images/d/da/ClowThunder.jpg</td>\n      <td>Western Magic</td>\n      <td>Sun</td>\n    </tr>\n    <tr>\n      <th>18</th>\n      <td>The Through</td>\n      <td>Clow Card</td>\n      <td>https://vignette.wikia.nocookie.net/ccs/images/d/d0/ClowThrough.jpg</td>\n      <td>Western Magic</td>\n      <td>Sun</td>\n    </tr>\n    <tr>\n      <th>19</th>\n      <td>The Sword</td>\n      <td>Clow Card</td>\n      <td>https://vignette.wikia.nocookie.net/ccs/images/2/2c/ClowSword.jpg</td>\n      <td>Western Magic</td>\n      <td>Sun</td>\n    </tr>\n    <tr>\n      <th>20</th>\n      <td>The Sweet</td>\n      <td>Clow Card</td>\n      <td>https://vignette.wikia.nocookie.net/ccs/images/e/e0/ClowSweet.jpg</td>\n      <td>Western Magic</td>\n      <td>Sun</td>\n    </tr>\n    <tr>\n      <th>21</th>\n      <td>The Storm</td>\n      <td>Clow Card</td>\n      <td>https://vignette.wikia.nocookie.net/ccs/images/5/58/ClowStorm.jpg</td>\n      <td>Eastern Magic</td>\n      <td>Moon</td>\n    </tr>\n    <tr>\n      <th>22</th>\n      <td>The Song</td>\n      <td>Clow Card</td>\n      <td>https://vignette.wikia.nocookie.net/ccs/images/4/46/ClowSong.jpg</td>\n      <td>Eastern Magic</td>\n      <td>Moon</td>\n    </tr>\n    <tr>\n      <th>23</th>\n      <td>The Snow</td>\n      <td>Clow Card</td>\n      <td>https://vignette.wikia.nocookie.net/ccs/images/2/2a/ClowSnow.jpg</td>\n      <td>Eastern Magic</td>\n      <td>Moon</td>\n    </tr>\n    <tr>\n      <th>24</th>\n      <td>The Sleep</td>\n      <td>Clow Card</td>\n      <td>https://vignette.wikia.nocookie.net/ccs/images/e/e8/ClowSleep.jpg</td>\n      <td>Eastern Magic</td>\n      <td>Moon</td>\n    </tr>\n    <tr>\n      <th>25</th>\n      <td>The Silent</td>\n      <td>Clow Card</td>\n      <td>https://vignette.wikia.nocookie.net/ccs/images/b/b7/ClowSilent.jpg</td>\n      <td>Eastern Magic</td>\n      <td>Moon</td>\n    </tr>\n    <tr>\n      <th>26</th>\n      <td>The Shot</td>\n      <td>Clow Card</td>\n      <td>https://vignette.wikia.nocookie.net/ccs/images/7/7c/ClowShot.jpg</td>\n      <td>Western Magic</td>\n      <td>Sun</td>\n    </tr>\n    <tr>\n      <th>27</th>\n      <td>The Shield</td>\n      <td>Clow Card</td>\n      <td>https://vignette.wikia.nocookie.net/ccs/images/a/a7/ClowShield.jpg</td>\n      <td>Western Magic</td>\n      <td>Sun</td>\n    </tr>\n    <tr>\n      <th>28</th>\n      <td>The Shadow</td>\n      <td>Clow Card</td>\n      <td>https://vignette.wikia.nocookie.net/ccs/images/c/c8/ClowShadow.jpg</td>\n      <td>Western Magic</td>\n      <td>Sun</td>\n    </tr>\n    <tr>\n      <th>29</th>\n      <td>The Sand</td>\n      <td>Clow Card</td>\n      <td>https://vignette.wikia.nocookie.net/ccs/images/1/1e/ClowSand.jpg</td>\n      <td>Western Magic</td>\n      <td>Sun</td>\n    </tr>\n    <tr>\n      <th>30</th>\n      <td>The Return</td>\n      <td>Clow Card</td>\n      <td>https://vignette.wikia.nocookie.net/ccs/images/2/22/ClowReturn.jpg</td>\n      <td>Western Magic</td>\n      <td>Sun</td>\n    </tr>\n    <tr>\n      <th>31</th>\n      <td>The Rain</td>\n      <td>Clow Card</td>\n      <td>https://vignette.wikia.nocookie.net/ccs/images/b/b2/ClowRain.jpg</td>\n      <td>Eastern Magic</td>\n      <td>Moon</td>\n    </tr>\n    <tr>\n      <th>32</th>\n      <td>The Wood</td>\n      <td>Clow Card</td>\n      <td>https://vignette.wikia.nocookie.net/ccs/images/e/e8/ClowWood.jpg</td>\n      <td>Eastern Magic</td>\n      <td>Moon</td>\n    </tr>\n    <tr>\n      <th>33</th>\n      <td>The Windy</td>\n      <td>Clow Card</td>\n      <td>https://vignette.wikia.nocookie.net/ccs/images/a/ac/ClowWindy.jpg</td>\n      <td>Eastern Magic</td>\n      <td>Moon</td>\n    </tr>\n    <tr>\n      <th>34</th>\n      <td>The Wave</td>\n      <td>Clow Card</td>\n      <td>https://vignette.wikia.nocookie.net/ccs/images/1/17/ClowWave.jpg</td>\n      <td>Eastern Magic</td>\n      <td>Moon</td>\n    </tr>\n    <tr>\n      <th>35</th>\n      <td>The Power</td>\n      <td>Clow Card</td>\n      <td>https://vignette.wikia.nocookie.net/ccs/images/c/c8/ClowPower.jpg</td>\n      <td>Western Magic</td>\n      <td>Sun</td>\n    </tr>\n    <tr>\n      <th>36</th>\n      <td>The Nothing</td>\n      <td>Clow Card</td>\n      <td>https://vignette.wikia.nocookie.net/ccs/images/2/22/ClowNothing.jpg</td>\n      <td>Unknown</td>\n      <td>Star</td>\n    </tr>\n    <tr>\n      <th>37</th>\n      <td>The Move</td>\n      <td>Clow Card</td>\n      <td>https://vignette.wikia.nocookie.net/ccs/images/0/00/ClowMove.jpg</td>\n      <td>Eastern Magic</td>\n      <td>Moon</td>\n    </tr>\n    <tr>\n      <th>38</th>\n      <td>The Mist</td>\n      <td>Clow Card</td>\n      <td>https://vignette.wikia.nocookie.net/ccs/images/4/4f/ClowMist.jpg</td>\n      <td>Eastern Magic</td>\n      <td>Moon</td>\n    </tr>\n    <tr>\n      <th>39</th>\n      <td>The Mirror</td>\n      <td>Clow Card</td>\n      <td>https://vignette.wikia.nocookie.net/ccs/images/e/ec/ClowMirror.jpg</td>\n      <td>Western Magic</td>\n      <td>Sun</td>\n    </tr>\n    <tr>\n      <th>40</th>\n      <td>The Maze</td>\n      <td>Clow Card</td>\n      <td>https://vignette.wikia.nocookie.net/ccs/images/e/e9/ClowMaze.jpg</td>\n      <td>Western magic</td>\n      <td>Sun</td>\n    </tr>\n    <tr>\n      <th>41</th>\n      <td>The Loop</td>\n      <td>Clow Card</td>\n      <td>https://vignette.wikia.nocookie.net/ccs/images/1/1c/ClowLoop.jpg</td>\n      <td>Western Magic</td>\n      <td>Sun</td>\n    </tr>\n    <tr>\n      <th>42</th>\n      <td>The Lock</td>\n      <td>Clow Card</td>\n      <td>https://vignette.wikia.nocookie.net/ccs/images/d/d8/ClowLock.jpg</td>\n      <td>Western Magic</td>\n      <td>Sun</td>\n    </tr>\n    <tr>\n      <th>43</th>\n      <td>The Little</td>\n      <td>Clow Card</td>\n      <td>https://vignette.wikia.nocookie.net/ccs/images/c/cd/ClowLittle.jpg</td>\n      <td>Western Magic</td>\n      <td>Sun</td>\n    </tr>\n    <tr>\n      <th>44</th>\n      <td>The Light</td>\n      <td>Clow Card</td>\n      <td>https://vignette.wikia.nocookie.net/ccs/images/6/66/ClowLight.jpg</td>\n      <td>Western Magic</td>\n      <td>Sun</td>\n    </tr>\n    <tr>\n      <th>45</th>\n      <td>The Libra</td>\n      <td>Clow Card</td>\n      <td>https://vignette.wikia.nocookie.net/ccs/images/7/75/ClowLibra.jpg</td>\n      <td>Western Magic</td>\n      <td>Sun</td>\n    </tr>\n    <tr>\n      <th>46</th>\n      <td>The Jump</td>\n      <td>Clow Card</td>\n      <td>https://vignette.wikia.nocookie.net/ccs/images/f/ff/ClowJump.jpg</td>\n      <td>Eastern Magic</td>\n      <td>Moon</td>\n    </tr>\n    <tr>\n      <th>47</th>\n      <td>The Illusion</td>\n      <td>Clow Card</td>\n      <td>https://vignette.wikia.nocookie.net/ccs/images/2/2d/ClowIllusion.jpg</td>\n      <td>Eastern Magic</td>\n      <td>Moon</td>\n    </tr>\n    <tr>\n      <th>48</th>\n      <td>The Glow</td>\n      <td>Clow Card</td>\n      <td>https://vignette.wikia.nocookie.net/ccs/images/b/b4/ClowGlow.jpg</td>\n      <td>Western Magic</td>\n      <td>Sun</td>\n    </tr>\n    <tr>\n      <th>49</th>\n      <td>The Freeze</td>\n      <td>Clow Card</td>\n      <td>https://vignette.wikia.nocookie.net/ccs/images/0/00/ClowFreeze.jpg</td>\n      <td>Eastern Magic</td>\n      <td>Moon</td>\n    </tr>\n    <tr>\n      <th>50</th>\n      <td>The Fly</td>\n      <td>Clow Card</td>\n      <td>https://vignette.wikia.nocookie.net/ccs/images/3/3c/ClowFly.jpg</td>\n      <td>Eastern Magic</td>\n      <td>Moon</td>\n    </tr>\n    <tr>\n      <th>51</th>\n      <td>The Flower</td>\n      <td>Clow Card</td>\n      <td>https://vignette.wikia.nocookie.net/ccs/images/d/da/ClowFlower.jpg</td>\n      <td>Western Magic</td>\n      <td>Sun</td>\n    </tr>\n    <tr>\n      <th>52</th>\n      <td>The Float</td>\n      <td>Clow Card</td>\n      <td>https://vignette.wikia.nocookie.net/ccs/images/2/26/ClowFloat.jpg</td>\n      <td>Eastern Magic</td>\n      <td>Moon</td>\n    </tr>\n  </tbody>\n</table>\n</div>"
     },
     "execution_count": 35,
     "metadata": {},
     "output_type": "execute_result"
    }
   ],
   "source": [
    "import pandas as pd\n",
    "\n",
    "clow_cards = pd.read_csv(\"data/clow-cards.csv\")\n",
    "clow_cards"
   ],
   "metadata": {
    "collapsed": false,
    "ExecuteTime": {
     "end_time": "2024-03-12T17:43:35.236511Z",
     "start_time": "2024-03-12T17:43:35.219987Z"
    }
   }
  },
  {
   "cell_type": "code",
   "execution_count": 36,
   "outputs": [
    {
     "data": {
      "text/plain": "                 card    card_type  \\\n0           The Arrow  Sakura Card   \n1            The Wood  Sakura Card   \n2           The Windy  Sakura Card   \n3            The Wave  Sakura Card   \n4          The Watery  Sakura Card   \n5           The Voice  Sakura Card   \n6            The Twin  Sakura Card   \n7            The Time  Sakura Card   \n8         The Thunder  Sakura Card   \n9         The Through  Sakura Card   \n10          The Sword  Sakura Card   \n11          The Sweet  Sakura Card   \n12          The Storm  Sakura Card   \n13           The Song  Sakura Card   \n14           The Snow  Sakura Card   \n15          The Sleep  Sakura Card   \n16         The Silent  Sakura Card   \n17           The Shot  Sakura Card   \n18         The Shield  Sakura Card   \n19         The Shadow  Sakura Card   \n20           The Sand  Sakura Card   \n21         The Return  Sakura Card   \n22           The Rain  Sakura Card   \n23          The Power  Sakura Card   \n24        The Nothing  Sakura Card   \n25  The Nameless Card  Sakura Card   \n26           The Move  Sakura Card   \n27           The Mist  Sakura Card   \n28         The Mirror  Sakura Card   \n29           The Maze  Sakura Card   \n30           The Loop  Sakura Card   \n31           The Lock  Sakura Card   \n32         The Little  Sakura Card   \n33          The Light  Sakura Card   \n34          The Libra  Sakura Card   \n35           The Jump  Sakura Card   \n36       The Illusion  Sakura Card   \n37           The Hope  Sakura Card   \n38           The Glow  Sakura Card   \n39         The Freeze  Sakura Card   \n40            The Fly  Sakura Card   \n41         The Flower  Sakura Card   \n42          The Float  Sakura Card   \n43          The Firey  Sakura Card   \n44          The Fight  Sakura Card   \n45          The Erase  Sakura Card   \n46         The Earthy  Sakura Card   \n47          The Dream  Sakura Card   \n48           The Dash  Sakura Card   \n49           The Dark  Sakura Card   \n50         The Create  Sakura Card   \n51          The Cloud  Sakura Card   \n52         The Change  Sakura Card   \n53        The Bubbles  Sakura Card   \n54            The Big  Sakura Card   \n\n                                                                   img_url  \\\n0      https://vignette.wikia.nocookie.net/ccs/images/a/a9/SakuraArrow.jpg   \n1       https://vignette.wikia.nocookie.net/ccs/images/3/3b/SakuraWood.jpg   \n2      https://vignette.wikia.nocookie.net/ccs/images/8/8a/SakuraWindy.jpg   \n3       https://vignette.wikia.nocookie.net/ccs/images/9/92/SakuraWave.jpg   \n4     https://vignette.wikia.nocookie.net/ccs/images/1/1c/SakuraWatery.jpg   \n5      https://vignette.wikia.nocookie.net/ccs/images/a/a1/SakuraVoice.jpg   \n6       https://vignette.wikia.nocookie.net/ccs/images/e/e9/SakuraTwin.jpg   \n7       https://vignette.wikia.nocookie.net/ccs/images/f/f1/SakuraTime.jpg   \n8    https://vignette.wikia.nocookie.net/ccs/images/c/c5/SakuraThunder.jpg   \n9    https://vignette.wikia.nocookie.net/ccs/images/5/5a/SakuraThrough.jpg   \n10     https://vignette.wikia.nocookie.net/ccs/images/a/ab/SakuraSword.jpg   \n11     https://vignette.wikia.nocookie.net/ccs/images/6/68/SakuraSweet.jpg   \n12     https://vignette.wikia.nocookie.net/ccs/images/6/65/SakuraStorm.jpg   \n13      https://vignette.wikia.nocookie.net/ccs/images/4/4c/SakuraSong.jpg   \n14      https://vignette.wikia.nocookie.net/ccs/images/7/7a/SakuraSnow.jpg   \n15     https://vignette.wikia.nocookie.net/ccs/images/f/fa/SakuraSleep.jpg   \n16    https://vignette.wikia.nocookie.net/ccs/images/c/c6/SakuraSilent.jpg   \n17      https://vignette.wikia.nocookie.net/ccs/images/8/84/SakuraShot.jpg   \n18    https://vignette.wikia.nocookie.net/ccs/images/1/1b/SakuraShield.jpg   \n19    https://vignette.wikia.nocookie.net/ccs/images/f/f5/SakuraShadow.jpg   \n20      https://vignette.wikia.nocookie.net/ccs/images/0/03/SakuraSand.jpg   \n21    https://vignette.wikia.nocookie.net/ccs/images/c/c8/SakuraReturn.jpg   \n22      https://vignette.wikia.nocookie.net/ccs/images/3/39/SakuraRain.jpg   \n23     https://vignette.wikia.nocookie.net/ccs/images/6/65/SakuraPower.jpg   \n24   https://vignette.wikia.nocookie.net/ccs/images/a/af/SakuraNothing.jpg   \n25                                                                     NaN   \n26      https://vignette.wikia.nocookie.net/ccs/images/e/e3/SakuraMove.jpg   \n27      https://vignette.wikia.nocookie.net/ccs/images/a/ab/SakuraMist.jpg   \n28    https://vignette.wikia.nocookie.net/ccs/images/6/69/SakuraMirror.jpg   \n29      https://vignette.wikia.nocookie.net/ccs/images/9/99/SakuraMaze.jpg   \n30      https://vignette.wikia.nocookie.net/ccs/images/9/9f/SakuraLoop.jpg   \n31      https://vignette.wikia.nocookie.net/ccs/images/0/08/SakuraLock.jpg   \n32    https://vignette.wikia.nocookie.net/ccs/images/d/db/SakuraLittle.jpg   \n33     https://vignette.wikia.nocookie.net/ccs/images/a/ad/SakuraLight.jpg   \n34     https://vignette.wikia.nocookie.net/ccs/images/6/6f/SakuraLibra.jpg   \n35      https://vignette.wikia.nocookie.net/ccs/images/5/58/SakuraJump.jpg   \n36  https://vignette.wikia.nocookie.net/ccs/images/2/25/SakuraIllusion.jpg   \n37                                                                     NaN   \n38      https://vignette.wikia.nocookie.net/ccs/images/8/88/SakuraGlow.jpg   \n39    https://vignette.wikia.nocookie.net/ccs/images/a/a8/SakuraFreeze.jpg   \n40       https://vignette.wikia.nocookie.net/ccs/images/5/51/SakuraFly.jpg   \n41    https://vignette.wikia.nocookie.net/ccs/images/6/6f/SakuraFlower.jpg   \n42     https://vignette.wikia.nocookie.net/ccs/images/6/61/SakuraFloat.jpg   \n43     https://vignette.wikia.nocookie.net/ccs/images/9/97/SakuraFirey.jpg   \n44     https://vignette.wikia.nocookie.net/ccs/images/4/46/SakuraFight.jpg   \n45     https://vignette.wikia.nocookie.net/ccs/images/d/de/SakuraErase.jpg   \n46    https://vignette.wikia.nocookie.net/ccs/images/9/94/SakuraEarthy.jpg   \n47     https://vignette.wikia.nocookie.net/ccs/images/f/f5/SakuraDream.jpg   \n48      https://vignette.wikia.nocookie.net/ccs/images/0/00/SakuraDash.jpg   \n49      https://vignette.wikia.nocookie.net/ccs/images/a/aa/SakuraDark.jpg   \n50    https://vignette.wikia.nocookie.net/ccs/images/7/75/SakuraCreate.jpg   \n51     https://vignette.wikia.nocookie.net/ccs/images/e/ef/SakuraCloud.jpg   \n52    https://vignette.wikia.nocookie.net/ccs/images/2/21/SakuraChange.jpg   \n53   https://vignette.wikia.nocookie.net/ccs/images/0/02/SakuraBubbles.jpg   \n54       https://vignette.wikia.nocookie.net/ccs/images/3/30/SakuraBig.jpg   \n\n       magic_type  sign  \n0   Western Magic   Sun  \n1   Eastern Magic  Moon  \n2   Eastern Magic  Moon  \n3   Eastern Magic  Moon  \n4   Eastern Magic  Moon  \n5   Eastern Magic  Moon  \n6   Western Magic   Sun  \n7   Eastern Magic  Moon  \n8   Western Magic   Sun  \n9   Western Magic   Sun  \n10  Western Magic   Sun  \n11  Western Magic   Sun  \n12  Eastern Magic  Moon  \n13  Eastern Magic  Moon  \n14  Eastern Magic  Moon  \n15  Eastern Magic  Moon  \n16  Eastern Magic  Moon  \n17  Western Magic   Sun  \n18  Western Magic   Sun  \n19  Western Magic   Sun  \n20  Western Magic   Sun  \n21  Western Magic   Sun  \n22  Eastern Magic  Moon  \n23  Western Magic   Sun  \n24        Unknown  Star  \n25            NaN   NaN  \n26  Eastern Magic  Moon  \n27  Eastern Magic  Moon  \n28  Western Magic   Sun  \n29  Western magic   Sun  \n30  Western Magic   Sun  \n31  Western Magic   Sun  \n32  Western Magic   Sun  \n33  Western Magic   Sun  \n34  Western Magic   Sun  \n35  Eastern Magic  Moon  \n36  Eastern Magic  Moon  \n37            NaN   NaN  \n38  Western Magic   Sun  \n39  Eastern Magic  Moon  \n40  Eastern Magic  Moon  \n41  Western Magic   Sun  \n42  Eastern Magic  Moon  \n43            NaN   Sun  \n44  Western Magic   Sun  \n45  Eastern Magic  Moon  \n46  Western Magic   Sun  \n47  Eastern Magic  Moon  \n48  Eastern Magic  Moon  \n49  Eastern Magic  Moon  \n50  Western Magic   Sun  \n51  Eastern Magic  Moon  \n52  Eastern Magic  Moon  \n53  Eastern Magic  Moon  \n54  Western Magic   Sun  ",
      "text/html": "<div>\n<style scoped>\n    .dataframe tbody tr th:only-of-type {\n        vertical-align: middle;\n    }\n\n    .dataframe tbody tr th {\n        vertical-align: top;\n    }\n\n    .dataframe thead th {\n        text-align: right;\n    }\n</style>\n<table border=\"1\" class=\"dataframe\">\n  <thead>\n    <tr style=\"text-align: right;\">\n      <th></th>\n      <th>card</th>\n      <th>card_type</th>\n      <th>img_url</th>\n      <th>magic_type</th>\n      <th>sign</th>\n    </tr>\n  </thead>\n  <tbody>\n    <tr>\n      <th>0</th>\n      <td>The Arrow</td>\n      <td>Sakura Card</td>\n      <td>https://vignette.wikia.nocookie.net/ccs/images/a/a9/SakuraArrow.jpg</td>\n      <td>Western Magic</td>\n      <td>Sun</td>\n    </tr>\n    <tr>\n      <th>1</th>\n      <td>The Wood</td>\n      <td>Sakura Card</td>\n      <td>https://vignette.wikia.nocookie.net/ccs/images/3/3b/SakuraWood.jpg</td>\n      <td>Eastern Magic</td>\n      <td>Moon</td>\n    </tr>\n    <tr>\n      <th>2</th>\n      <td>The Windy</td>\n      <td>Sakura Card</td>\n      <td>https://vignette.wikia.nocookie.net/ccs/images/8/8a/SakuraWindy.jpg</td>\n      <td>Eastern Magic</td>\n      <td>Moon</td>\n    </tr>\n    <tr>\n      <th>3</th>\n      <td>The Wave</td>\n      <td>Sakura Card</td>\n      <td>https://vignette.wikia.nocookie.net/ccs/images/9/92/SakuraWave.jpg</td>\n      <td>Eastern Magic</td>\n      <td>Moon</td>\n    </tr>\n    <tr>\n      <th>4</th>\n      <td>The Watery</td>\n      <td>Sakura Card</td>\n      <td>https://vignette.wikia.nocookie.net/ccs/images/1/1c/SakuraWatery.jpg</td>\n      <td>Eastern Magic</td>\n      <td>Moon</td>\n    </tr>\n    <tr>\n      <th>5</th>\n      <td>The Voice</td>\n      <td>Sakura Card</td>\n      <td>https://vignette.wikia.nocookie.net/ccs/images/a/a1/SakuraVoice.jpg</td>\n      <td>Eastern Magic</td>\n      <td>Moon</td>\n    </tr>\n    <tr>\n      <th>6</th>\n      <td>The Twin</td>\n      <td>Sakura Card</td>\n      <td>https://vignette.wikia.nocookie.net/ccs/images/e/e9/SakuraTwin.jpg</td>\n      <td>Western Magic</td>\n      <td>Sun</td>\n    </tr>\n    <tr>\n      <th>7</th>\n      <td>The Time</td>\n      <td>Sakura Card</td>\n      <td>https://vignette.wikia.nocookie.net/ccs/images/f/f1/SakuraTime.jpg</td>\n      <td>Eastern Magic</td>\n      <td>Moon</td>\n    </tr>\n    <tr>\n      <th>8</th>\n      <td>The Thunder</td>\n      <td>Sakura Card</td>\n      <td>https://vignette.wikia.nocookie.net/ccs/images/c/c5/SakuraThunder.jpg</td>\n      <td>Western Magic</td>\n      <td>Sun</td>\n    </tr>\n    <tr>\n      <th>9</th>\n      <td>The Through</td>\n      <td>Sakura Card</td>\n      <td>https://vignette.wikia.nocookie.net/ccs/images/5/5a/SakuraThrough.jpg</td>\n      <td>Western Magic</td>\n      <td>Sun</td>\n    </tr>\n    <tr>\n      <th>10</th>\n      <td>The Sword</td>\n      <td>Sakura Card</td>\n      <td>https://vignette.wikia.nocookie.net/ccs/images/a/ab/SakuraSword.jpg</td>\n      <td>Western Magic</td>\n      <td>Sun</td>\n    </tr>\n    <tr>\n      <th>11</th>\n      <td>The Sweet</td>\n      <td>Sakura Card</td>\n      <td>https://vignette.wikia.nocookie.net/ccs/images/6/68/SakuraSweet.jpg</td>\n      <td>Western Magic</td>\n      <td>Sun</td>\n    </tr>\n    <tr>\n      <th>12</th>\n      <td>The Storm</td>\n      <td>Sakura Card</td>\n      <td>https://vignette.wikia.nocookie.net/ccs/images/6/65/SakuraStorm.jpg</td>\n      <td>Eastern Magic</td>\n      <td>Moon</td>\n    </tr>\n    <tr>\n      <th>13</th>\n      <td>The Song</td>\n      <td>Sakura Card</td>\n      <td>https://vignette.wikia.nocookie.net/ccs/images/4/4c/SakuraSong.jpg</td>\n      <td>Eastern Magic</td>\n      <td>Moon</td>\n    </tr>\n    <tr>\n      <th>14</th>\n      <td>The Snow</td>\n      <td>Sakura Card</td>\n      <td>https://vignette.wikia.nocookie.net/ccs/images/7/7a/SakuraSnow.jpg</td>\n      <td>Eastern Magic</td>\n      <td>Moon</td>\n    </tr>\n    <tr>\n      <th>15</th>\n      <td>The Sleep</td>\n      <td>Sakura Card</td>\n      <td>https://vignette.wikia.nocookie.net/ccs/images/f/fa/SakuraSleep.jpg</td>\n      <td>Eastern Magic</td>\n      <td>Moon</td>\n    </tr>\n    <tr>\n      <th>16</th>\n      <td>The Silent</td>\n      <td>Sakura Card</td>\n      <td>https://vignette.wikia.nocookie.net/ccs/images/c/c6/SakuraSilent.jpg</td>\n      <td>Eastern Magic</td>\n      <td>Moon</td>\n    </tr>\n    <tr>\n      <th>17</th>\n      <td>The Shot</td>\n      <td>Sakura Card</td>\n      <td>https://vignette.wikia.nocookie.net/ccs/images/8/84/SakuraShot.jpg</td>\n      <td>Western Magic</td>\n      <td>Sun</td>\n    </tr>\n    <tr>\n      <th>18</th>\n      <td>The Shield</td>\n      <td>Sakura Card</td>\n      <td>https://vignette.wikia.nocookie.net/ccs/images/1/1b/SakuraShield.jpg</td>\n      <td>Western Magic</td>\n      <td>Sun</td>\n    </tr>\n    <tr>\n      <th>19</th>\n      <td>The Shadow</td>\n      <td>Sakura Card</td>\n      <td>https://vignette.wikia.nocookie.net/ccs/images/f/f5/SakuraShadow.jpg</td>\n      <td>Western Magic</td>\n      <td>Sun</td>\n    </tr>\n    <tr>\n      <th>20</th>\n      <td>The Sand</td>\n      <td>Sakura Card</td>\n      <td>https://vignette.wikia.nocookie.net/ccs/images/0/03/SakuraSand.jpg</td>\n      <td>Western Magic</td>\n      <td>Sun</td>\n    </tr>\n    <tr>\n      <th>21</th>\n      <td>The Return</td>\n      <td>Sakura Card</td>\n      <td>https://vignette.wikia.nocookie.net/ccs/images/c/c8/SakuraReturn.jpg</td>\n      <td>Western Magic</td>\n      <td>Sun</td>\n    </tr>\n    <tr>\n      <th>22</th>\n      <td>The Rain</td>\n      <td>Sakura Card</td>\n      <td>https://vignette.wikia.nocookie.net/ccs/images/3/39/SakuraRain.jpg</td>\n      <td>Eastern Magic</td>\n      <td>Moon</td>\n    </tr>\n    <tr>\n      <th>23</th>\n      <td>The Power</td>\n      <td>Sakura Card</td>\n      <td>https://vignette.wikia.nocookie.net/ccs/images/6/65/SakuraPower.jpg</td>\n      <td>Western Magic</td>\n      <td>Sun</td>\n    </tr>\n    <tr>\n      <th>24</th>\n      <td>The Nothing</td>\n      <td>Sakura Card</td>\n      <td>https://vignette.wikia.nocookie.net/ccs/images/a/af/SakuraNothing.jpg</td>\n      <td>Unknown</td>\n      <td>Star</td>\n    </tr>\n    <tr>\n      <th>25</th>\n      <td>The Nameless Card</td>\n      <td>Sakura Card</td>\n      <td>NaN</td>\n      <td>NaN</td>\n      <td>NaN</td>\n    </tr>\n    <tr>\n      <th>26</th>\n      <td>The Move</td>\n      <td>Sakura Card</td>\n      <td>https://vignette.wikia.nocookie.net/ccs/images/e/e3/SakuraMove.jpg</td>\n      <td>Eastern Magic</td>\n      <td>Moon</td>\n    </tr>\n    <tr>\n      <th>27</th>\n      <td>The Mist</td>\n      <td>Sakura Card</td>\n      <td>https://vignette.wikia.nocookie.net/ccs/images/a/ab/SakuraMist.jpg</td>\n      <td>Eastern Magic</td>\n      <td>Moon</td>\n    </tr>\n    <tr>\n      <th>28</th>\n      <td>The Mirror</td>\n      <td>Sakura Card</td>\n      <td>https://vignette.wikia.nocookie.net/ccs/images/6/69/SakuraMirror.jpg</td>\n      <td>Western Magic</td>\n      <td>Sun</td>\n    </tr>\n    <tr>\n      <th>29</th>\n      <td>The Maze</td>\n      <td>Sakura Card</td>\n      <td>https://vignette.wikia.nocookie.net/ccs/images/9/99/SakuraMaze.jpg</td>\n      <td>Western magic</td>\n      <td>Sun</td>\n    </tr>\n    <tr>\n      <th>30</th>\n      <td>The Loop</td>\n      <td>Sakura Card</td>\n      <td>https://vignette.wikia.nocookie.net/ccs/images/9/9f/SakuraLoop.jpg</td>\n      <td>Western Magic</td>\n      <td>Sun</td>\n    </tr>\n    <tr>\n      <th>31</th>\n      <td>The Lock</td>\n      <td>Sakura Card</td>\n      <td>https://vignette.wikia.nocookie.net/ccs/images/0/08/SakuraLock.jpg</td>\n      <td>Western Magic</td>\n      <td>Sun</td>\n    </tr>\n    <tr>\n      <th>32</th>\n      <td>The Little</td>\n      <td>Sakura Card</td>\n      <td>https://vignette.wikia.nocookie.net/ccs/images/d/db/SakuraLittle.jpg</td>\n      <td>Western Magic</td>\n      <td>Sun</td>\n    </tr>\n    <tr>\n      <th>33</th>\n      <td>The Light</td>\n      <td>Sakura Card</td>\n      <td>https://vignette.wikia.nocookie.net/ccs/images/a/ad/SakuraLight.jpg</td>\n      <td>Western Magic</td>\n      <td>Sun</td>\n    </tr>\n    <tr>\n      <th>34</th>\n      <td>The Libra</td>\n      <td>Sakura Card</td>\n      <td>https://vignette.wikia.nocookie.net/ccs/images/6/6f/SakuraLibra.jpg</td>\n      <td>Western Magic</td>\n      <td>Sun</td>\n    </tr>\n    <tr>\n      <th>35</th>\n      <td>The Jump</td>\n      <td>Sakura Card</td>\n      <td>https://vignette.wikia.nocookie.net/ccs/images/5/58/SakuraJump.jpg</td>\n      <td>Eastern Magic</td>\n      <td>Moon</td>\n    </tr>\n    <tr>\n      <th>36</th>\n      <td>The Illusion</td>\n      <td>Sakura Card</td>\n      <td>https://vignette.wikia.nocookie.net/ccs/images/2/25/SakuraIllusion.jpg</td>\n      <td>Eastern Magic</td>\n      <td>Moon</td>\n    </tr>\n    <tr>\n      <th>37</th>\n      <td>The Hope</td>\n      <td>Sakura Card</td>\n      <td>NaN</td>\n      <td>NaN</td>\n      <td>NaN</td>\n    </tr>\n    <tr>\n      <th>38</th>\n      <td>The Glow</td>\n      <td>Sakura Card</td>\n      <td>https://vignette.wikia.nocookie.net/ccs/images/8/88/SakuraGlow.jpg</td>\n      <td>Western Magic</td>\n      <td>Sun</td>\n    </tr>\n    <tr>\n      <th>39</th>\n      <td>The Freeze</td>\n      <td>Sakura Card</td>\n      <td>https://vignette.wikia.nocookie.net/ccs/images/a/a8/SakuraFreeze.jpg</td>\n      <td>Eastern Magic</td>\n      <td>Moon</td>\n    </tr>\n    <tr>\n      <th>40</th>\n      <td>The Fly</td>\n      <td>Sakura Card</td>\n      <td>https://vignette.wikia.nocookie.net/ccs/images/5/51/SakuraFly.jpg</td>\n      <td>Eastern Magic</td>\n      <td>Moon</td>\n    </tr>\n    <tr>\n      <th>41</th>\n      <td>The Flower</td>\n      <td>Sakura Card</td>\n      <td>https://vignette.wikia.nocookie.net/ccs/images/6/6f/SakuraFlower.jpg</td>\n      <td>Western Magic</td>\n      <td>Sun</td>\n    </tr>\n    <tr>\n      <th>42</th>\n      <td>The Float</td>\n      <td>Sakura Card</td>\n      <td>https://vignette.wikia.nocookie.net/ccs/images/6/61/SakuraFloat.jpg</td>\n      <td>Eastern Magic</td>\n      <td>Moon</td>\n    </tr>\n    <tr>\n      <th>43</th>\n      <td>The Firey</td>\n      <td>Sakura Card</td>\n      <td>https://vignette.wikia.nocookie.net/ccs/images/9/97/SakuraFirey.jpg</td>\n      <td>NaN</td>\n      <td>Sun</td>\n    </tr>\n    <tr>\n      <th>44</th>\n      <td>The Fight</td>\n      <td>Sakura Card</td>\n      <td>https://vignette.wikia.nocookie.net/ccs/images/4/46/SakuraFight.jpg</td>\n      <td>Western Magic</td>\n      <td>Sun</td>\n    </tr>\n    <tr>\n      <th>45</th>\n      <td>The Erase</td>\n      <td>Sakura Card</td>\n      <td>https://vignette.wikia.nocookie.net/ccs/images/d/de/SakuraErase.jpg</td>\n      <td>Eastern Magic</td>\n      <td>Moon</td>\n    </tr>\n    <tr>\n      <th>46</th>\n      <td>The Earthy</td>\n      <td>Sakura Card</td>\n      <td>https://vignette.wikia.nocookie.net/ccs/images/9/94/SakuraEarthy.jpg</td>\n      <td>Western Magic</td>\n      <td>Sun</td>\n    </tr>\n    <tr>\n      <th>47</th>\n      <td>The Dream</td>\n      <td>Sakura Card</td>\n      <td>https://vignette.wikia.nocookie.net/ccs/images/f/f5/SakuraDream.jpg</td>\n      <td>Eastern Magic</td>\n      <td>Moon</td>\n    </tr>\n    <tr>\n      <th>48</th>\n      <td>The Dash</td>\n      <td>Sakura Card</td>\n      <td>https://vignette.wikia.nocookie.net/ccs/images/0/00/SakuraDash.jpg</td>\n      <td>Eastern Magic</td>\n      <td>Moon</td>\n    </tr>\n    <tr>\n      <th>49</th>\n      <td>The Dark</td>\n      <td>Sakura Card</td>\n      <td>https://vignette.wikia.nocookie.net/ccs/images/a/aa/SakuraDark.jpg</td>\n      <td>Eastern Magic</td>\n      <td>Moon</td>\n    </tr>\n    <tr>\n      <th>50</th>\n      <td>The Create</td>\n      <td>Sakura Card</td>\n      <td>https://vignette.wikia.nocookie.net/ccs/images/7/75/SakuraCreate.jpg</td>\n      <td>Western Magic</td>\n      <td>Sun</td>\n    </tr>\n    <tr>\n      <th>51</th>\n      <td>The Cloud</td>\n      <td>Sakura Card</td>\n      <td>https://vignette.wikia.nocookie.net/ccs/images/e/ef/SakuraCloud.jpg</td>\n      <td>Eastern Magic</td>\n      <td>Moon</td>\n    </tr>\n    <tr>\n      <th>52</th>\n      <td>The Change</td>\n      <td>Sakura Card</td>\n      <td>https://vignette.wikia.nocookie.net/ccs/images/2/21/SakuraChange.jpg</td>\n      <td>Eastern Magic</td>\n      <td>Moon</td>\n    </tr>\n    <tr>\n      <th>53</th>\n      <td>The Bubbles</td>\n      <td>Sakura Card</td>\n      <td>https://vignette.wikia.nocookie.net/ccs/images/0/02/SakuraBubbles.jpg</td>\n      <td>Eastern Magic</td>\n      <td>Moon</td>\n    </tr>\n    <tr>\n      <th>54</th>\n      <td>The Big</td>\n      <td>Sakura Card</td>\n      <td>https://vignette.wikia.nocookie.net/ccs/images/3/30/SakuraBig.jpg</td>\n      <td>Western Magic</td>\n      <td>Sun</td>\n    </tr>\n  </tbody>\n</table>\n</div>"
     },
     "execution_count": 36,
     "metadata": {},
     "output_type": "execute_result"
    }
   ],
   "source": [
    "sakura_cards = pd.read_csv(\"data/sakura-cards.csv\")\n",
    "sakura_cards"
   ],
   "metadata": {
    "collapsed": false,
    "ExecuteTime": {
     "end_time": "2024-03-12T17:43:37.419632Z",
     "start_time": "2024-03-12T17:43:37.391801Z"
    }
   }
  },
  {
   "cell_type": "code",
   "outputs": [],
   "source": [],
   "metadata": {
    "collapsed": false
   }
  }
 ],
 "metadata": {
  "kernelspec": {
   "display_name": "Python 3",
   "language": "python",
   "name": "python3"
  },
  "language_info": {
   "codemirror_mode": {
    "name": "ipython",
    "version": 2
   },
   "file_extension": ".py",
   "mimetype": "text/x-python",
   "name": "python",
   "nbconvert_exporter": "python",
   "pygments_lexer": "ipython2",
   "version": "2.7.6"
  }
 },
 "nbformat": 4,
 "nbformat_minor": 0
}
